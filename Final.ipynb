{
 "cells": [
  {
   "cell_type": "code",
   "execution_count": 60,
   "metadata": {},
   "outputs": [],
   "source": [
    "import pandas as pd\n",
    "import numpy as np\n",
    "import datetime\n",
    "from tqdm import tqdm\n",
    "from matplotlib import pyplot as plt\n",
    "%matplotlib inline\n",
    "\n",
    "from keras.callbacks import EarlyStopping\n",
    "from keras.layers import *\n",
    "from keras.utils import to_categorical\n",
    "from keras.models import Sequential, Model\n",
    "from keras import regularizers, optimizers\n",
    "import keras.backend as K"
   ]
  },
  {
   "cell_type": "code",
   "execution_count": 61,
   "metadata": {},
   "outputs": [],
   "source": [
    "train = pd.read_csv(\"C:/Users/piyushkirtivardhan/Desktop/New folder/train_2.csv-20200824T035958Z-001/train_2.csv/Train_2.csv\").fillna(0)"
   ]
  },
  {
   "cell_type": "code",
   "execution_count": 62,
   "metadata": {},
   "outputs": [],
   "source": [
    "test= pd.read_csv('key_2.csv')\n",
    "solution=pd.read_csv('sample_submission_2.csv')"
   ]
  },
  {
   "cell_type": "code",
   "execution_count": 63,
   "metadata": {},
   "outputs": [
    {
     "name": "stderr",
     "output_type": "stream",
     "text": [
      "100%|██████████████████████████████████████████████████████████████████████| 145063/145063 [00:00<00:00, 310157.91it/s]\n"
     ]
    }
   ],
   "source": [
    "train_page = pd.DataFrame([page.split('_')[-3:]for page in tqdm(train.Page)])"
   ]
  },
  {
   "cell_type": "code",
   "execution_count": 64,
   "metadata": {},
   "outputs": [],
   "source": [
    "for column in train_page.columns:\n",
    "    train_page['c_%d' % (column)] = train_page[column].astype('category').cat.codes"
   ]
  },
  {
   "cell_type": "code",
   "execution_count": 65,
   "metadata": {},
   "outputs": [],
   "source": [
    "#converting the value to categorical \n",
    "language = to_categorical(train_page.iloc[:, -3])\n",
    "access_type = to_categorical(train_page.iloc[:, -2])\n",
    "agent_type = to_categorical(train_page.iloc[:, -1])"
   ]
  },
  {
   "cell_type": "code",
   "execution_count": 66,
   "metadata": {},
   "outputs": [],
   "source": [
    "date = train.iloc[:, 1:].astype('float32')"
   ]
  },
  {
   "cell_type": "code",
   "execution_count": 67,
   "metadata": {},
   "outputs": [],
   "source": [
    "#Transposing the df coloums \n",
    "date = date.T.fillna(date.median(axis=1)).T"
   ]
  },
  {
   "cell_type": "code",
   "execution_count": 68,
   "metadata": {},
   "outputs": [],
   "source": [
    "#converting the values in the log\n",
    "date = np.log1p(date).values"
   ]
  },
  {
   "cell_type": "code",
   "execution_count": 69,
   "metadata": {},
   "outputs": [],
   "source": [
    "start_date = datetime.datetime(2017, 9, 13)\n",
    "end_date= datetime.datetime(2017, 11, 13)\n",
    "step = datetime.timedelta(days=1)\n",
    "\n",
    "result = []\n",
    "\n",
    "while start_date <= end_date:\n",
    "    result.append(start_date.strftime('%Y-%m-%d'))\n",
    "    start_date += step"
   ]
  },
  {
   "cell_type": "code",
   "execution_count": 70,
   "metadata": {},
   "outputs": [],
   "source": [
    "train_index = range((802-365*2+1+239+2), (802-365+1))\n",
    "pred_index = range((802-365+1+239+2), 803)\n",
    "y_test=range(439,563)\n",
    "\n",
    "y_valid = date[:, (802-365+1+2):(802-365+1+64)]"
   ]
  },
  {
   "cell_type": "code",
   "execution_count": 71,
   "metadata": {},
   "outputs": [],
   "source": [
    "def k_smape(y_true, y_pred):\n",
    "    '''Symmetric mean absolute percentage error for keras metric'''\n",
    "    diff = K.abs(y_true - y_pred) / \\\n",
    "        K.clip((K.abs(y_true) + K.abs(y_pred))/2, K.epsilon(), None)\n",
    "    return K.mean(diff, axis=-1)"
   ]
  },
  {
   "cell_type": "code",
   "execution_count": 72,
   "metadata": {},
   "outputs": [],
   "source": [
    "def function_1(data_point, best_model):\n",
    "    '''This function will take features and predict the label using best model'''\n",
    "    label_1 = best_model.predict(data_point)\n",
    "    y_pred = np.expm1(label_1)\n",
    "    output = pd.DataFrame(y_pred, columns=result)\n",
    "    output['Page'] = train.Page\n",
    "    output = output.melt(id_vars='Page')\n",
    "    output.Page = output.Page+'_'+output.variable\n",
    "    final = test.merge(output, how='left')[['Id', 'value']].rename(columns={'value': 'Visits'})\n",
    "    print(final)\n",
    "    \n",
    "    "
   ]
  },
  {
   "cell_type": "code",
   "execution_count": 73,
   "metadata": {},
   "outputs": [],
   "source": [
    "from tensorflow.keras.models import load_model\n",
    "best_model = load_model('model.h5',custom_objects={\"k_smape\": k_smape})"
   ]
  },
  {
   "cell_type": "code",
   "execution_count": 74,
   "metadata": {},
   "outputs": [
    {
     "name": "stdout",
     "output_type": "stream",
     "text": [
      "                   Id      Visits\n",
      "0        0b293039387a  506.505463\n",
      "1        7114389dd824  502.362030\n",
      "2        057b02ff1f09  511.059570\n",
      "3        bd2aca21caa3  504.015625\n",
      "4        c0effb42cdd5  509.990753\n",
      "...               ...         ...\n",
      "8993901  f78fbaa305ad  194.686813\n",
      "8993902  33aecaf259d1  211.532135\n",
      "8993903  a36228b64466  227.865845\n",
      "8993904  26887d3e5c99  266.522797\n",
      "8993905  06ad06979f80  275.555298\n",
      "\n",
      "[8993906 rows x 2 columns]\n"
     ]
    }
   ],
   "source": [
    "# this function will take the x_test data points and predict the visits of sites\n",
    "function_1([date[:, pred_index],language, access_type, agent_type], best_model)"
   ]
  },
  {
   "cell_type": "code",
   "execution_count": 75,
   "metadata": {},
   "outputs": [],
   "source": [
    "def function_2(data_point, label, best_model):\n",
    "    label_1 = best_model.predict(data_point)\n",
    "    y_pred = np.expm1(label_1)\n",
    "    output = pd.DataFrame(y_pred, columns=result)\n",
    "    output['Page'] = train.Page\n",
    "    output = output.melt(id_vars='Page')\n",
    "    output.Page = output.Page+'_'+output.variable\n",
    "    final = test.merge(output, how='left')[['Id', 'value']].rename(columns={'value': 'Visits'})\n",
    "    a = final.Visits\n",
    "    b = label\n",
    "    c=np.mean(np.abs(a-b)/np.clip((np.abs(a)+np.abs(b))/2, 1e-7, None))\n",
    "    print(c)\n"
   ]
  },
  {
   "cell_type": "code",
   "execution_count": 76,
   "metadata": {},
   "outputs": [
    {
     "name": "stdout",
     "output_type": "stream",
     "text": [
      "2.0\n"
     ]
    }
   ],
   "source": [
    "function_2(([date[:, pred_index],language, access_type, agent_type]),solution.Visits ,best_model)"
   ]
  },
  {
   "cell_type": "code",
   "execution_count": 77,
   "metadata": {},
   "outputs": [],
   "source": [
    "train_1=date[:, pred_index]"
   ]
  },
  {
   "cell_type": "code",
   "execution_count": 106,
   "metadata": {},
   "outputs": [],
   "source": [
    "def function_3(data_point, best_model):\n",
    "    '''This function will take features and predict the label using best model'''\n",
    "    label_1 = best_model.predict(data_point)\n",
    "    y_pred = np.expm1(label_1)\n",
    "    output = pd.DataFrame(y_pred, columns=result)\n",
    "    print(output)"
   ]
  },
  {
   "cell_type": "code",
   "execution_count": 108,
   "metadata": {},
   "outputs": [
    {
     "name": "stdout",
     "output_type": "stream",
     "text": [
      "   2017-09-13  2017-09-14  2017-09-15  2017-09-16  2017-09-17  2017-09-18  \\\n",
      "0   25.598751   26.247641   25.606812   27.235538   29.582291   29.380312   \n",
      "\n",
      "   2017-09-19  2017-09-20  2017-09-21  2017-09-22  ...  2017-11-04  \\\n",
      "0   28.050175   26.063652   26.193773   26.151852  ...   25.019234   \n",
      "\n",
      "   2017-11-05  2017-11-06  2017-11-07  2017-11-08  2017-11-09  2017-11-10  \\\n",
      "0   24.482029   25.898239   25.423105    23.61108   20.411545   21.221523   \n",
      "\n",
      "   2017-11-11  2017-11-12  2017-11-13  \n",
      "0   19.934231   25.567276   23.946735  \n",
      "\n",
      "[1 rows x 62 columns]\n"
     ]
    }
   ],
   "source": [
    "function_3([train_1[:1],language[:1], access_type[:1], agent_type[:1]], best_model)"
   ]
  },
  {
   "cell_type": "code",
   "execution_count": null,
   "metadata": {},
   "outputs": [],
   "source": []
  },
  {
   "cell_type": "code",
   "execution_count": null,
   "metadata": {},
   "outputs": [],
   "source": []
  },
  {
   "cell_type": "code",
   "execution_count": null,
   "metadata": {},
   "outputs": [],
   "source": []
  }
 ],
 "metadata": {
  "kernelspec": {
   "display_name": "Python 3",
   "language": "python",
   "name": "python3"
  },
  "language_info": {
   "codemirror_mode": {
    "name": "ipython",
    "version": 3
   },
   "file_extension": ".py",
   "mimetype": "text/x-python",
   "name": "python",
   "nbconvert_exporter": "python",
   "pygments_lexer": "ipython3",
   "version": "3.7.6"
  }
 },
 "nbformat": 4,
 "nbformat_minor": 4
}
